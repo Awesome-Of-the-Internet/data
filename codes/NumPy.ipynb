{
  "nbformat": 4,
  "nbformat_minor": 0,
  "metadata": {
    "colab": {
      "name": "NumPy.ipynb",
      "provenance": [],
      "collapsed_sections": []
    },
    "kernelspec": {
      "name": "python3",
      "display_name": "Python 3"
    },
    "language_info": {
      "name": "python"
    }
  },
  "cells": [
    {
      "cell_type": "code",
      "metadata": {
        "id": "_T_Mfy_LI0cv"
      },
      "source": [
        "import numpy as np"
      ],
      "execution_count": 1,
      "outputs": []
    },
    {
      "cell_type": "code",
      "metadata": {
        "colab": {
          "base_uri": "https://localhost:8080/"
        },
        "id": "jVfwCoq6J7_X",
        "outputId": "a77b4eed-490d-43f2-a5b9-b58c5c6d8b41"
      },
      "source": [
        "my_list = [1, 2, 3]\n",
        "my_list"
      ],
      "execution_count": 2,
      "outputs": [
        {
          "output_type": "execute_result",
          "data": {
            "text/plain": [
              "[1, 2, 3]"
            ]
          },
          "metadata": {
            "tags": []
          },
          "execution_count": 2
        }
      ]
    },
    {
      "cell_type": "code",
      "metadata": {
        "colab": {
          "base_uri": "https://localhost:8080/"
        },
        "id": "c3D8WyM1J-6w",
        "outputId": "527f7932-6f75-4116-903d-e9c04b49db30"
      },
      "source": [
        "np.array(my_list)"
      ],
      "execution_count": 3,
      "outputs": [
        {
          "output_type": "execute_result",
          "data": {
            "text/plain": [
              "array([1, 2, 3])"
            ]
          },
          "metadata": {
            "tags": []
          },
          "execution_count": 3
        }
      ]
    },
    {
      "cell_type": "code",
      "metadata": {
        "colab": {
          "base_uri": "https://localhost:8080/"
        },
        "id": "k4Ch97vjKCuZ",
        "outputId": "66609e7f-a8b0-4ead-cd4e-b50589edef30"
      },
      "source": [
        "my_mat = [[1,2,3],[4,5,6],[7,8,9]]\n",
        "my_mat"
      ],
      "execution_count": 4,
      "outputs": [
        {
          "output_type": "execute_result",
          "data": {
            "text/plain": [
              "[[1, 2, 3], [4, 5, 6], [7, 8, 9]]"
            ]
          },
          "metadata": {
            "tags": []
          },
          "execution_count": 4
        }
      ]
    },
    {
      "cell_type": "code",
      "metadata": {
        "colab": {
          "base_uri": "https://localhost:8080/"
        },
        "id": "TVoFk7PWmCsz",
        "outputId": "9c9e008c-6079-49d8-f986-745ad0b25b8d"
      },
      "source": [
        "np.array(my_mat)"
      ],
      "execution_count": 5,
      "outputs": [
        {
          "output_type": "execute_result",
          "data": {
            "text/plain": [
              "array([[1, 2, 3],\n",
              "       [4, 5, 6],\n",
              "       [7, 8, 9]])"
            ]
          },
          "metadata": {
            "tags": []
          },
          "execution_count": 5
        }
      ]
    },
    {
      "cell_type": "code",
      "metadata": {
        "colab": {
          "base_uri": "https://localhost:8080/"
        },
        "id": "us5F_XYcmZUJ",
        "outputId": "ae5a1dcc-83c5-4633-e094-b729bd995ed3"
      },
      "source": [
        "np.arange(0, 11)"
      ],
      "execution_count": 6,
      "outputs": [
        {
          "output_type": "execute_result",
          "data": {
            "text/plain": [
              "array([ 0,  1,  2,  3,  4,  5,  6,  7,  8,  9, 10])"
            ]
          },
          "metadata": {
            "tags": []
          },
          "execution_count": 6
        }
      ]
    },
    {
      "cell_type": "code",
      "metadata": {
        "colab": {
          "base_uri": "https://localhost:8080/"
        },
        "id": "BDORBRSkm_gm",
        "outputId": "2768cf43-b401-405e-e427-cabac39cc3f5"
      },
      "source": [
        "np.arange(0, 11, 2)"
      ],
      "execution_count": 7,
      "outputs": [
        {
          "output_type": "execute_result",
          "data": {
            "text/plain": [
              "array([ 0,  2,  4,  6,  8, 10])"
            ]
          },
          "metadata": {
            "tags": []
          },
          "execution_count": 7
        }
      ]
    },
    {
      "cell_type": "code",
      "metadata": {
        "colab": {
          "base_uri": "https://localhost:8080/"
        },
        "id": "f6MT5oSepWvf",
        "outputId": "b223a83a-ff4d-49a9-8b1a-5c7eb68a943f"
      },
      "source": [
        "np.zeros(5)"
      ],
      "execution_count": 8,
      "outputs": [
        {
          "output_type": "execute_result",
          "data": {
            "text/plain": [
              "array([0., 0., 0., 0., 0.])"
            ]
          },
          "metadata": {
            "tags": []
          },
          "execution_count": 8
        }
      ]
    },
    {
      "cell_type": "code",
      "metadata": {
        "colab": {
          "base_uri": "https://localhost:8080/"
        },
        "id": "esShDMqBqTZu",
        "outputId": "e5e69d26-8900-4e29-974c-85590b199e4b"
      },
      "source": [
        "np.zeros((5,5))"
      ],
      "execution_count": 9,
      "outputs": [
        {
          "output_type": "execute_result",
          "data": {
            "text/plain": [
              "array([[0., 0., 0., 0., 0.],\n",
              "       [0., 0., 0., 0., 0.],\n",
              "       [0., 0., 0., 0., 0.],\n",
              "       [0., 0., 0., 0., 0.],\n",
              "       [0., 0., 0., 0., 0.]])"
            ]
          },
          "metadata": {
            "tags": []
          },
          "execution_count": 9
        }
      ]
    },
    {
      "cell_type": "code",
      "metadata": {
        "colab": {
          "base_uri": "https://localhost:8080/"
        },
        "id": "ClxPv450ruOU",
        "outputId": "a9c5626c-f5a9-41d4-bbfd-d947009ce633"
      },
      "source": [
        "np.linspace(0,5,10)"
      ],
      "execution_count": 10,
      "outputs": [
        {
          "output_type": "execute_result",
          "data": {
            "text/plain": [
              "array([0.        , 0.55555556, 1.11111111, 1.66666667, 2.22222222,\n",
              "       2.77777778, 3.33333333, 3.88888889, 4.44444444, 5.        ])"
            ]
          },
          "metadata": {
            "tags": []
          },
          "execution_count": 10
        }
      ]
    },
    {
      "cell_type": "code",
      "metadata": {
        "colab": {
          "base_uri": "https://localhost:8080/"
        },
        "id": "3jGacNiPH5cs",
        "outputId": "f6dc15ef-1251-4939-d402-217c15afd377"
      },
      "source": [
        "np.eye(10)"
      ],
      "execution_count": 11,
      "outputs": [
        {
          "output_type": "execute_result",
          "data": {
            "text/plain": [
              "array([[1., 0., 0., 0., 0., 0., 0., 0., 0., 0.],\n",
              "       [0., 1., 0., 0., 0., 0., 0., 0., 0., 0.],\n",
              "       [0., 0., 1., 0., 0., 0., 0., 0., 0., 0.],\n",
              "       [0., 0., 0., 1., 0., 0., 0., 0., 0., 0.],\n",
              "       [0., 0., 0., 0., 1., 0., 0., 0., 0., 0.],\n",
              "       [0., 0., 0., 0., 0., 1., 0., 0., 0., 0.],\n",
              "       [0., 0., 0., 0., 0., 0., 1., 0., 0., 0.],\n",
              "       [0., 0., 0., 0., 0., 0., 0., 1., 0., 0.],\n",
              "       [0., 0., 0., 0., 0., 0., 0., 0., 1., 0.],\n",
              "       [0., 0., 0., 0., 0., 0., 0., 0., 0., 1.]])"
            ]
          },
          "metadata": {
            "tags": []
          },
          "execution_count": 11
        }
      ]
    },
    {
      "cell_type": "code",
      "metadata": {
        "colab": {
          "base_uri": "https://localhost:8080/"
        },
        "id": "feUQazzzIKC4",
        "outputId": "57ec2188-713d-4aaf-c295-5ee897406a1c"
      },
      "source": [
        "np.random.rand(5)"
      ],
      "execution_count": 12,
      "outputs": [
        {
          "output_type": "execute_result",
          "data": {
            "text/plain": [
              "array([9.13645991e-01, 6.69532246e-01, 7.21215377e-04, 9.60465646e-01,\n",
              "       5.69780958e-01])"
            ]
          },
          "metadata": {
            "tags": []
          },
          "execution_count": 12
        }
      ]
    },
    {
      "cell_type": "code",
      "metadata": {
        "colab": {
          "base_uri": "https://localhost:8080/"
        },
        "id": "1P4Ll_OdI1vU",
        "outputId": "fe4777fe-2bbd-464b-dcbf-46cfea6dbe19"
      },
      "source": [
        "np.random.rand(5, 5)"
      ],
      "execution_count": 13,
      "outputs": [
        {
          "output_type": "execute_result",
          "data": {
            "text/plain": [
              "array([[0.63379964, 0.37883618, 0.75685332, 0.25115425, 0.21864982],\n",
              "       [0.39899659, 0.43244187, 0.49153983, 0.8021334 , 0.12645072],\n",
              "       [0.16728048, 0.38502617, 0.47111857, 0.62158757, 0.36265545],\n",
              "       [0.17994256, 0.39890164, 0.5865935 , 0.69430963, 0.12496336],\n",
              "       [0.66252973, 0.80780502, 0.06761216, 0.80728881, 0.29959308]])"
            ]
          },
          "metadata": {
            "tags": []
          },
          "execution_count": 13
        }
      ]
    },
    {
      "cell_type": "code",
      "metadata": {
        "colab": {
          "base_uri": "https://localhost:8080/"
        },
        "id": "cpRQCpGDJZzr",
        "outputId": "ba0a16cc-2139-48ec-b640-686b7153defd"
      },
      "source": [
        "np.random.randn(4)"
      ],
      "execution_count": 14,
      "outputs": [
        {
          "output_type": "execute_result",
          "data": {
            "text/plain": [
              "array([-1.3115682 ,  0.85870948, -1.26121748, -1.68576455])"
            ]
          },
          "metadata": {
            "tags": []
          },
          "execution_count": 14
        }
      ]
    },
    {
      "cell_type": "code",
      "metadata": {
        "colab": {
          "base_uri": "https://localhost:8080/"
        },
        "id": "RN6mkxejJse5",
        "outputId": "b9c2aceb-11af-4c14-e544-e431520cd4db"
      },
      "source": [
        "np.random.randn(5,5)"
      ],
      "execution_count": 15,
      "outputs": [
        {
          "output_type": "execute_result",
          "data": {
            "text/plain": [
              "array([[-0.4055832 ,  0.06115862, -1.00089874,  1.6268705 ,  0.45575684],\n",
              "       [ 1.33056408, -0.08665096,  0.90065263,  1.91084331,  0.30533382],\n",
              "       [ 0.99494756, -0.01689041,  1.8018938 , -0.71543174, -0.54224385],\n",
              "       [ 2.16740038,  0.23421   , -1.6658081 ,  2.12371551,  0.16731351],\n",
              "       [ 0.53105622, -0.96772101, -0.19230689, -0.2892651 , -0.96382217]])"
            ]
          },
          "metadata": {
            "tags": []
          },
          "execution_count": 15
        }
      ]
    },
    {
      "cell_type": "code",
      "metadata": {
        "colab": {
          "base_uri": "https://localhost:8080/"
        },
        "id": "_Zx8slA6J7H0",
        "outputId": "ef4f26dd-3ab2-45c9-e0a8-4c93ae3be045"
      },
      "source": [
        "np.random.randint(1, 100)"
      ],
      "execution_count": 16,
      "outputs": [
        {
          "output_type": "execute_result",
          "data": {
            "text/plain": [
              "90"
            ]
          },
          "metadata": {
            "tags": []
          },
          "execution_count": 16
        }
      ]
    },
    {
      "cell_type": "code",
      "metadata": {
        "colab": {
          "base_uri": "https://localhost:8080/"
        },
        "id": "wQvdXazkKMJJ",
        "outputId": "7ece1c53-f8f1-4960-f659-12f9833a24ee"
      },
      "source": [
        "np.random.randint(1, 100, 10)"
      ],
      "execution_count": 17,
      "outputs": [
        {
          "output_type": "execute_result",
          "data": {
            "text/plain": [
              "array([54, 92, 19, 57, 26, 37, 71, 70, 77, 29])"
            ]
          },
          "metadata": {
            "tags": []
          },
          "execution_count": 17
        }
      ]
    },
    {
      "cell_type": "code",
      "metadata": {
        "colab": {
          "base_uri": "https://localhost:8080/"
        },
        "id": "Gf3kSuLHKfnp",
        "outputId": "9ffe6ee4-d17a-44ea-955d-57cd0145f2eb"
      },
      "source": [
        "arr = np.arange(25)\n",
        "arr.reshape(5,5)"
      ],
      "execution_count": 18,
      "outputs": [
        {
          "output_type": "execute_result",
          "data": {
            "text/plain": [
              "array([[ 0,  1,  2,  3,  4],\n",
              "       [ 5,  6,  7,  8,  9],\n",
              "       [10, 11, 12, 13, 14],\n",
              "       [15, 16, 17, 18, 19],\n",
              "       [20, 21, 22, 23, 24]])"
            ]
          },
          "metadata": {
            "tags": []
          },
          "execution_count": 18
        }
      ]
    },
    {
      "cell_type": "code",
      "metadata": {
        "colab": {
          "base_uri": "https://localhost:8080/"
        },
        "id": "KSBGbmmBLMqu",
        "outputId": "2bf85a71-b1c5-48bb-e28b-a662dc4f618a"
      },
      "source": [
        "ranarr = np.random.randint(0,100, (5,5))\n",
        "ranarr"
      ],
      "execution_count": 20,
      "outputs": [
        {
          "output_type": "execute_result",
          "data": {
            "text/plain": [
              "array([[27, 56, 46, 41, 55],\n",
              "       [71, 85,  1, 35, 80],\n",
              "       [31,  9, 81, 52, 10],\n",
              "       [75, 76,  7, 99, 75],\n",
              "       [81, 24, 99, 52, 15]])"
            ]
          },
          "metadata": {
            "tags": []
          },
          "execution_count": 20
        }
      ]
    },
    {
      "cell_type": "code",
      "metadata": {
        "colab": {
          "base_uri": "https://localhost:8080/"
        },
        "id": "YKym8_aJhSTE",
        "outputId": "8a1e8504-0e38-4236-c871-d70d534542e1"
      },
      "source": [
        "ranarr.min()"
      ],
      "execution_count": 21,
      "outputs": [
        {
          "output_type": "execute_result",
          "data": {
            "text/plain": [
              "1"
            ]
          },
          "metadata": {
            "tags": []
          },
          "execution_count": 21
        }
      ]
    },
    {
      "cell_type": "code",
      "metadata": {
        "colab": {
          "base_uri": "https://localhost:8080/"
        },
        "id": "GUX6bzldhWAY",
        "outputId": "e059d1df-8927-4920-8ac6-b6a3712d8809"
      },
      "source": [
        "ranarr.max()"
      ],
      "execution_count": 22,
      "outputs": [
        {
          "output_type": "execute_result",
          "data": {
            "text/plain": [
              "99"
            ]
          },
          "metadata": {
            "tags": []
          },
          "execution_count": 22
        }
      ]
    },
    {
      "cell_type": "code",
      "metadata": {
        "colab": {
          "base_uri": "https://localhost:8080/"
        },
        "id": "vw7SEB3qhX83",
        "outputId": "e19449af-a435-4c2f-865d-0494078e2415"
      },
      "source": [
        "ranarr.argmax()"
      ],
      "execution_count": 23,
      "outputs": [
        {
          "output_type": "execute_result",
          "data": {
            "text/plain": [
              "18"
            ]
          },
          "metadata": {
            "tags": []
          },
          "execution_count": 23
        }
      ]
    },
    {
      "cell_type": "code",
      "metadata": {
        "colab": {
          "base_uri": "https://localhost:8080/"
        },
        "id": "0oBaNL0_ixd-",
        "outputId": "0c489744-6346-4aa6-c845-2b2a320bbf62"
      },
      "source": [
        "ranarr.argmin()"
      ],
      "execution_count": 25,
      "outputs": [
        {
          "output_type": "execute_result",
          "data": {
            "text/plain": [
              "7"
            ]
          },
          "metadata": {
            "tags": []
          },
          "execution_count": 25
        }
      ]
    },
    {
      "cell_type": "code",
      "metadata": {
        "colab": {
          "base_uri": "https://localhost:8080/"
        },
        "id": "JrmpH5DWjJ2L",
        "outputId": "bad3437c-0d8c-4da5-cdd9-c5f1f7028f72"
      },
      "source": [
        "ranarr.shape"
      ],
      "execution_count": 27,
      "outputs": [
        {
          "output_type": "execute_result",
          "data": {
            "text/plain": [
              "(5, 5)"
            ]
          },
          "metadata": {
            "tags": []
          },
          "execution_count": 27
        }
      ]
    },
    {
      "cell_type": "code",
      "metadata": {
        "colab": {
          "base_uri": "https://localhost:8080/"
        },
        "id": "xHsydFuljYIp",
        "outputId": "159924d2-14c1-4836-d55b-56c05880e837"
      },
      "source": [
        "ranarr.reshape((1, 25))"
      ],
      "execution_count": 29,
      "outputs": [
        {
          "output_type": "execute_result",
          "data": {
            "text/plain": [
              "array([[27, 56, 46, 41, 55, 71, 85,  1, 35, 80, 31,  9, 81, 52, 10, 75,\n",
              "        76,  7, 99, 75, 81, 24, 99, 52, 15]])"
            ]
          },
          "metadata": {
            "tags": []
          },
          "execution_count": 29
        }
      ]
    },
    {
      "cell_type": "code",
      "metadata": {
        "colab": {
          "base_uri": "https://localhost:8080/"
        },
        "id": "aU_U6k32jkoa",
        "outputId": "001a0f90-6850-4696-b587-cce7c3345a05"
      },
      "source": [
        "ranarr.dtype"
      ],
      "execution_count": 30,
      "outputs": [
        {
          "output_type": "execute_result",
          "data": {
            "text/plain": [
              "dtype('int64')"
            ]
          },
          "metadata": {
            "tags": []
          },
          "execution_count": 30
        }
      ]
    },
    {
      "cell_type": "code",
      "metadata": {
        "id": "rtH0IENCjw5E"
      },
      "source": [
        ""
      ],
      "execution_count": null,
      "outputs": []
    }
  ]
}